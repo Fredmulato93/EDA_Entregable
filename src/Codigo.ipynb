{
 "cells": [
  {
   "cell_type": "code",
   "execution_count": 1,
   "metadata": {},
   "outputs": [],
   "source": [
    "#Importamos los paquetes y modulos necesarios \n",
    "\n",
    "import matplotlib.pyplot as plt\n",
    "import numpy as np\n",
    "import pandas as pd\n",
    "import seaborn as sns"
   ]
  },
  {
   "cell_type": "code",
   "execution_count": null,
   "metadata": {},
   "outputs": [],
   "source": [
    "#  1- Cargamos el DataSet llamado Model_creditoPersonal.csv \n",
    "#  2- Mostramos su contenido \n",
    "#  3- Preparamos los datos \n",
    "\n",
    "ruta_archivo = \"/Users/fredmulato/Desktop/Model_creditoPersonal.csv\"\n"
   ]
  },
  {
   "cell_type": "code",
   "execution_count": null,
   "metadata": {},
   "outputs": [],
   "source": [
    "df_creditos = pd.read_csv(ruta_archivo)"
   ]
  },
  {
   "cell_type": "code",
   "execution_count": null,
   "metadata": {},
   "outputs": [],
   "source": [
    "df_creditos.info()"
   ]
  },
  {
   "cell_type": "code",
   "execution_count": null,
   "metadata": {},
   "outputs": [],
   "source": [
    "df_creditos"
   ]
  },
  {
   "cell_type": "code",
   "execution_count": null,
   "metadata": {},
   "outputs": [],
   "source": [
    "df_creditos.rename(columns={ \n",
    "    \"ID\": \"ID del Cliente\", \n",
    "    \"Age\": \"Edad del Cliente\",\n",
    "    \"Experience\":\"Años Experiencia\", \n",
    "    \"Income\":\"Ingresos Anual\",  \n",
    "    \"ZIP Code\":\"Codigo Postal\", \n",
    "    \"Family\":\"Miembros Familia\",\n",
    "    \"CCAvg\":\"Promedio Gasto TDC\", \n",
    "    \"Education\": \"Nivel de Educación\",\n",
    "    \"Mortgage\": \"Valor de Hipoteca\",\n",
    "    \"Personal Loan\":\"Cliente ACCA\",\n",
    "    \"Securities Account\": \"Cliente con Cuenta\", \n",
    "    \"CD Account\": \"Cliente con Deposito\", \n",
    "    \"Online\":\"Cliente Digital\",\n",
    "    \"CreditCard\": \"Cliente con TDC\"}, inplace=True)\n",
    "\n",
    "df_creditos"
   ]
  },
  {
   "cell_type": "code",
   "execution_count": null,
   "metadata": {},
   "outputs": [],
   "source": [
    "df_creditos[\"Ingresos Anual\"]= df_creditos[\"Ingresos Anual\"]*1000\n",
    "df_creditos[\"Promedio Gasto TDC\"]= (df_creditos[\"Promedio Gasto TDC\"]*1000).astype(int)\n",
    "df_creditos[\"Valor de Hipoteca\"]= (df_creditos[\"Valor de Hipoteca\"]*1000).astype(int)\n",
    "\n",
    "df_creditos"
   ]
  },
  {
   "cell_type": "code",
   "execution_count": null,
   "metadata": {},
   "outputs": [],
   "source": [
    "mapeo_nivel_educativo = {\n",
    "    1: \"No graduado\",\n",
    "    2: \"Graduado\",\n",
    "    3: \"Profesional\"\n",
    "}\n",
    "\n",
    "df_creditos[\"Nivel de Educación\"] = df_creditos[\"Nivel de Educación\"].map(mapeo_nivel_educativo)"
   ]
  },
  {
   "cell_type": "code",
   "execution_count": null,
   "metadata": {},
   "outputs": [],
   "source": [
    "mapeo_cliente_acca = {\n",
    "    0: \"No\",\n",
    "    1: \"Si\"\n",
    "}\n",
    "\n",
    "df_creditos[\"Cliente ACCA\"]=df_creditos[\"Cliente ACCA\"].map(mapeo_cliente_acca)"
   ]
  },
  {
   "cell_type": "code",
   "execution_count": null,
   "metadata": {},
   "outputs": [],
   "source": [
    "mapeo_cliente_cuenta = {\n",
    "    0: \"No\",\n",
    "    1: \"Si\"\n",
    "}\n",
    "\n",
    "df_creditos[\"Cliente con Cuenta\"]= df_creditos[\"Cliente con Cuenta\"].map(mapeo_cliente_cuenta)"
   ]
  },
  {
   "cell_type": "code",
   "execution_count": null,
   "metadata": {},
   "outputs": [],
   "source": [
    "mapeo_cliente_deposito = {\n",
    "    0: \"No\",\n",
    "    1: \"Si\"\n",
    "}\n",
    "\n",
    "df_creditos[\"Cliente con Deposito\"]= df_creditos[\"Cliente con Deposito\"].map(mapeo_cliente_deposito)"
   ]
  },
  {
   "cell_type": "code",
   "execution_count": null,
   "metadata": {},
   "outputs": [],
   "source": [
    "mapeo_cliente_digital = {\n",
    "    0: \"No\",\n",
    "    1: \"Si\"\n",
    "}\n",
    "\n",
    "df_creditos[\"Cliente Digital\"]=df_creditos[\"Cliente Digital\"].map(mapeo_cliente_digital)"
   ]
  },
  {
   "cell_type": "code",
   "execution_count": null,
   "metadata": {},
   "outputs": [],
   "source": [
    "mapeo_cliente_TDC = {\n",
    "    0:\"No\",\n",
    "    1 : \"Si\"\n",
    "}\n",
    "\n",
    "df_creditos[\"Cliente con TDC\"]=df_creditos[\"Cliente con TDC\"].map(mapeo_cliente_TDC)"
   ]
  },
  {
   "cell_type": "code",
   "execution_count": null,
   "metadata": {},
   "outputs": [],
   "source": [
    "df_creditos"
   ]
  },
  {
   "cell_type": "code",
   "execution_count": null,
   "metadata": {},
   "outputs": [],
   "source": [
    "df_creditos[\"Ingresos Mensual\"] = (df_creditos[\"Ingresos Anual\"]/12).astype(int)"
   ]
  },
  {
   "cell_type": "code",
   "execution_count": null,
   "metadata": {},
   "outputs": [],
   "source": [
    "def clasificar_cliente(ingresos):\n",
    "    if ingresos <= 1000:\n",
    "        return \"Clientes Básicos\"\n",
    "    elif 1001 <= ingresos <= 4999:\n",
    "        return \"Banca Personal\"\n",
    "    elif 5000 <= ingresos <= 10000:\n",
    "        return \"Clientes Preferencial\"\n",
    "    elif ingresos > 10001:\n",
    "        return \"Clientes Oro\"\n",
    "    else:\n",
    "        return \"Sin Asignar\"\n",
    "    \n",
    "df_creditos[\"Tipo de Cliente\"]= df_creditos[\"Ingresos Mensual\"].apply(clasificar_cliente)"
   ]
  },
  {
   "cell_type": "code",
   "execution_count": null,
   "metadata": {},
   "outputs": [],
   "source": [
    "def clasificar_edad(edad):\n",
    "    if 18 <= edad <= 30:\n",
    "        return \"Cartera Joven\"\n",
    "    elif 31 <= edad <= 45:\n",
    "        return \"Adulto y Familias\"\n",
    "    elif 46 <= edad <= 60:\n",
    "        return \"Adultos Consolidados\"\n",
    "    elif edad > 60:\n",
    "        return \"Jubilados y Adultos Mayores\"\n",
    "    else:\n",
    "        return \"No Asignado\"\n",
    "\n",
    "df_creditos[\"Cartera Por Edad\"] = df_creditos[\"Edad del Cliente\"].apply(clasificar_edad)"
   ]
  },
  {
   "cell_type": "code",
   "execution_count": null,
   "metadata": {},
   "outputs": [],
   "source": [
    "df_creditos"
   ]
  },
  {
   "cell_type": "code",
   "execution_count": null,
   "metadata": {},
   "outputs": [],
   "source": [
    "nuevo_orden = [\n",
    "    \"ID del Cliente\",\n",
    "    \"Edad del Cliente\",\n",
    "    \"Cartera Por Edad\",\n",
    "    \"Años Experiencia\", \n",
    "    \"Ingresos Anual\", \n",
    "    \"Ingresos Mensual\", \n",
    "    \"Tipo de Cliente\", \n",
    "    \"Nivel de Educación\", \n",
    "    \"Codigo Postal\", \n",
    "    \"Miembros Familia\", \n",
    "    \"Promedio Gasto TDC\", \n",
    "    \"Valor de Hipoteca\",\n",
    "    \"Cliente con TDC\",\n",
    "    \"Cliente ACCA\", \n",
    "    \"Cliente con Cuenta\", \n",
    "    \"Cliente con Deposito\", \n",
    "    \"Cliente Digital\"]\n",
    "\n",
    "df_creditos = df_creditos[nuevo_orden]\n",
    "\n",
    "df_creditos"
   ]
  },
  {
   "cell_type": "code",
   "execution_count": null,
   "metadata": {},
   "outputs": [],
   "source": [
    "\n",
    "ruta_archivo = \"/Users/fredmulato/Desktop/df_creditos.csv\""
   ]
  },
  {
   "cell_type": "code",
   "execution_count": null,
   "metadata": {},
   "outputs": [],
   "source": [
    "df_creditos_personal = pd.read_csv(ruta_archivo)"
   ]
  },
  {
   "cell_type": "code",
   "execution_count": null,
   "metadata": {},
   "outputs": [],
   "source": [
    "df_creditos_personal.info()"
   ]
  },
  {
   "cell_type": "code",
   "execution_count": null,
   "metadata": {},
   "outputs": [],
   "source": [
    "df_creditos_personal"
   ]
  },
  {
   "cell_type": "code",
   "execution_count": null,
   "metadata": {},
   "outputs": [],
   "source": [
    "duplicados = df_creditos_personal.duplicated()\n",
    "duplicados.value_counts()"
   ]
  },
  {
   "cell_type": "code",
   "execution_count": null,
   "metadata": {},
   "outputs": [],
   "source": [
    "def plot_multiple_boxplots(df, columns, dim_matriz_visual = 2):\n",
    "    num_cols = len(columns)\n",
    "    num_rows = num_cols // dim_matriz_visual + num_cols % dim_matriz_visual\n",
    "    fig, axes = plt.subplots(num_rows, dim_matriz_visual, figsize=(12, 6 * num_rows))\n",
    "    axes = axes.flatten()\n",
    "\n",
    "    for i, column in enumerate(columns):\n",
    "        if df[column].dtype in ['int64', 'float64']:\n",
    "            sns.boxplot(data=df, x=column, ax=axes[i])\n",
    "            axes[i].set_title(column)\n",
    "\n",
    "    # Ocultar ejes vacíos\n",
    "    for j in range(i+1, num_rows * 2):\n",
    "        axes[j].axis('off')\n",
    "\n",
    "    plt.tight_layout()\n",
    "    plt.show()"
   ]
  },
  {
   "cell_type": "code",
   "execution_count": null,
   "metadata": {},
   "outputs": [],
   "source": [
    "def plot_histo_dens(df, columns, bins=None):\n",
    "    num_cols = len(columns)\n",
    "    num_rows = num_cols // 2 + num_cols % 2\n",
    "    fig, axes = plt.subplots(num_rows, 2, figsize=(12, 6 * num_rows))\n",
    "    axes = axes.flatten()\n",
    "\n",
    "    for i, column in enumerate(columns):\n",
    "        if df[column].dtype in ['int64', 'float64']:\n",
    "            if bins:\n",
    "                sns.histplot(df[column], kde=True, ax=axes[i], bins=bins)\n",
    "            else:\n",
    "                sns.histplot(df[column], kde=True, ax=axes[i])\n",
    "            axes[i].set_title(f'Histograma y KDE de {column}')\n",
    "\n",
    "    # Ocultar ejes vacíos\n",
    "    for j in range(i + 1, num_rows * 2):\n",
    "        axes[j].axis('off')\n",
    "\n",
    "    plt.tight_layout()\n",
    "    plt.show()"
   ]
  },
  {
   "cell_type": "code",
   "execution_count": null,
   "metadata": {},
   "outputs": [],
   "source": [
    "def plot_combined_graphs(df, columns, whisker_width=1.5):\n",
    "    num_cols = len(columns)\n",
    "    if num_cols:\n",
    "        \n",
    "        fig, axes = plt.subplots(num_cols, 2, figsize=(12, 5 * num_cols))\n",
    "        print(axes.shape)\n",
    "\n",
    "        for i, column in enumerate(columns):\n",
    "            if df[column].dtype in ['int64', 'float64']:\n",
    "                # Histograma y KDE\n",
    "                sns.histplot(df[column], kde=True, ax=axes[i,0] if num_cols > 1 else axes[0])\n",
    "                if num_cols > 1:\n",
    "                    axes[i,0].set_title(f'Histograma y KDE de {column}')\n",
    "                else:\n",
    "                    axes[0].set_title(f'Histograma y KDE de {column}')\n",
    "\n",
    "                # Boxplot\n",
    "                sns.boxplot(x=df[column], ax=axes[i,1] if num_cols > 1 else axes[1], whis=whisker_width)\n",
    "                if num_cols > 1:\n",
    "                    axes[i,1].set_title(f'Boxplot de {column}')\n",
    "                else:\n",
    "                    axes[1].set_title(f'Boxplot de {column}')\n",
    "\n",
    "        plt.tight_layout()\n",
    "        plt.show()"
   ]
  },
  {
   "cell_type": "code",
   "execution_count": null,
   "metadata": {},
   "outputs": [],
   "source": [
    "plot_combined_graphs(df_creditos_personal, [\"Ingresos Mensual\"])\n",
    "plot_combined_graphs(df_creditos_personal, [\"Edad del Cliente\"])\n",
    "plot_combined_graphs(df_creditos_personal, [\"Promedio Gasto TDC\"])"
   ]
  },
  {
   "cell_type": "code",
   "execution_count": null,
   "metadata": {},
   "outputs": [],
   "source": [
    "tabla_tipo_cliente = df_creditos_personal.groupby(\"Tipo de Cliente\").size().reset_index(name=\"Total\")\n",
    "tabla_tipo_cliente"
   ]
  },
  {
   "cell_type": "code",
   "execution_count": null,
   "metadata": {},
   "outputs": [],
   "source": [
    "tabla_cartera_cliente = df_creditos_personal.groupby(\"Cartera Por Edad\").size().reset_index(name=\"Total\")\n",
    "tabla_cartera_cliente"
   ]
  },
  {
   "cell_type": "code",
   "execution_count": null,
   "metadata": {},
   "outputs": [],
   "source": [
    "\n",
    "ruta_archivo = \"/Users/fredmulato/Desktop/df_creditos.csv\""
   ]
  },
  {
   "cell_type": "code",
   "execution_count": null,
   "metadata": {},
   "outputs": [],
   "source": [
    "df_creditos_personal = pd.read_csv(ruta_archivo)"
   ]
  },
  {
   "cell_type": "code",
   "execution_count": null,
   "metadata": {},
   "outputs": [],
   "source": [
    "df_creditos_personal"
   ]
  },
  {
   "cell_type": "code",
   "execution_count": null,
   "metadata": {},
   "outputs": [],
   "source": [
    "tabla_tipo_cliente = df_creditos_personal.groupby(\"Tipo de Cliente\").size().reset_index(name=\"Total\")\n",
    "total_global_tcliente = df_creditos_personal.shape[0]\n",
    "tabla_tipo_cliente[\"%\"]=(tabla_tipo_cliente[\"Total\"]/total_global_tcliente)*100\n",
    "tabla_tipo_cliente=tabla_tipo_cliente.sort_values(by=\"%\", ascending=False)\n",
    "tabla_tipo_cliente"
   ]
  },
  {
   "cell_type": "code",
   "execution_count": null,
   "metadata": {},
   "outputs": [],
   "source": [
    "fig, ax = plt.subplots(1,2, figsize = (18,7))\n",
    "sns.barplot(data=tabla_tipo_cliente, x=\"Tipo de Cliente\", y=\"Total\", ax=ax[0], palette=\"viridis\")\n",
    "\n",
    "for i in range(len(tabla_tipo_cliente)):\n",
    "    ax[0].text(i, tabla_tipo_cliente[\"Total\"].iloc[i] + 0.05,  # Ajustar la posición sobre la barra\n",
    "               f'{tabla_tipo_cliente[\"Total\"].iloc[i]}',  # El valor a mostrar\n",
    "               ha='center', va='bottom', fontsize=12)\n",
    "    \n",
    "ax[0].spines['top'].set_visible(False)\n",
    "ax[0].spines['right'].set_visible(False)\n",
    "\n",
    "ax[0].tick_params(left=False, bottom=False)\n",
    "\n",
    "ax[0].set_title(\"Total de Clientes por Tipo\")\n",
    "ax[0].set_ylabel(\"Total\")\n",
    "ax[0].set_xlabel(\"Tipo de Cliente\")\n",
    "\n",
    "ax[1].pie(tabla_tipo_cliente[\"Total\"], labels = tabla_tipo_cliente[\"Tipo de Cliente\"], autopct = \"%2.2f%%\", startangle = 90, colors = sns.color_palette(\"Set3\", len(tabla_tipo_cliente)))\n",
    "ax[1].set_title(\"Porcentaje de Clientes por Tipo\")\n",
    "\n",
    "plt.tight_layout()\n",
    "plt.show()\n"
   ]
  },
  {
   "cell_type": "code",
   "execution_count": null,
   "metadata": {},
   "outputs": [],
   "source": [
    "tabla_cartera_cliente = df_creditos_personal.groupby(\"Cartera Por Edad\").size().reset_index(name=\"Total\")\n",
    "total_global_cc = df_creditos_personal.shape[0]\n",
    "tabla_cartera_cliente[\"%\"]=(tabla_cartera_cliente[\"Total\"]/total_global_cc)*100\n",
    "tabla_cartera_cliente=tabla_cartera_cliente.sort_values(by=\"%\", ascending=False)\n",
    "tabla_cartera_cliente"
   ]
  },
  {
   "cell_type": "code",
   "execution_count": null,
   "metadata": {},
   "outputs": [],
   "source": [
    "fig, ax = plt.subplots(1,2, figsize = (18,7))\n",
    "sns.barplot(data=tabla_cartera_cliente, x=\"Cartera Por Edad\", y=\"Total\", ax=ax[0], palette=\"coolwarm\")\n",
    "\n",
    "for i in range(len(tabla_cartera_cliente)):\n",
    "    ax[0].text(i, tabla_cartera_cliente[\"Total\"].iloc[i] + 0.05,  # Ajustar la posición sobre la barra\n",
    "               f'{tabla_cartera_cliente[\"Total\"].iloc[i]}',  # El valor a mostrar\n",
    "               ha='center', va='bottom', fontsize=12)\n",
    "    \n",
    "ax[0].spines['top'].set_visible(False)\n",
    "ax[0].spines['right'].set_visible(False)\n",
    "\n",
    "ax[0].tick_params(left=False, bottom=False)\n",
    "\n",
    "ax[0].set_title(\"Total de Clientes Por Segmento Edad\")\n",
    "ax[0].set_ylabel(\"Total\")\n",
    "ax[0].set_xlabel(\"Cartera Por Edad\")\n",
    "\n",
    "ax[1].pie(tabla_cartera_cliente[\"Total\"], labels = tabla_cartera_cliente[\"Cartera Por Edad\"], autopct = \"%2.2f%%\", startangle = 90, colors = sns.color_palette(\"Set2\", len(tabla_cartera_cliente)))\n",
    "ax[1].set_title(\"Porcentaje de Clientes Por Segmento Edad\")\n",
    "\n",
    "plt.tight_layout()\n",
    "plt.show()"
   ]
  },
  {
   "cell_type": "code",
   "execution_count": null,
   "metadata": {},
   "outputs": [],
   "source": [
    "tabla_educacion = df_creditos_personal.groupby(\"Nivel de Educación\").size().reset_index(name=\"Total\")\n",
    "total_global_educacion = df_creditos_personal.shape[0]\n",
    "tabla_educacion[\"%\"]=(tabla_educacion[\"Total\"]/total_global_educacion)*100\n",
    "tabla_educacion=tabla_educacion.sort_values(by=\"%\", ascending=False)\n",
    "tabla_educacion"
   ]
  },
  {
   "cell_type": "code",
   "execution_count": null,
   "metadata": {},
   "outputs": [],
   "source": [
    "fig, ax = plt.subplots(1,2, figsize = (18,7))\n",
    "sns.barplot(data=tabla_educacion, x=\"Nivel de Educación\", y=\"Total\", ax=ax[0], palette=\"pastel\")\n",
    "\n",
    "for i in range(len(tabla_educacion)):\n",
    "    ax[0].text(i, tabla_educacion[\"Total\"].iloc[i] + 0.05,  # Ajustar la posición sobre la barra\n",
    "               f'{tabla_educacion[\"Total\"].iloc[i]}',  # El valor a mostrar\n",
    "               ha='center', va='bottom', fontsize=12)\n",
    "    \n",
    "ax[0].spines['top'].set_visible(False)\n",
    "ax[0].spines['right'].set_visible(False)\n",
    "\n",
    "ax[0].tick_params(left=False, bottom=False)\n",
    "\n",
    "ax[0].set_title(\"Total de Clientes Por Segmento Educación\")\n",
    "ax[0].set_ylabel(\"Total\")\n",
    "ax[0].set_xlabel(\"Nivel Educación\")\n",
    "\n",
    "ax[1].pie(tabla_educacion[\"Total\"], labels = tabla_educacion[\"Nivel de Educación\"], autopct = \"%2.2f%%\", startangle = 90, colors = sns.color_palette(\"husl\", len(tabla_educacion)))\n",
    "ax[1].set_title(\"Porcentaje de Clientes Por Segmento Educación\")\n",
    "\n",
    "plt.tight_layout()\n",
    "plt.show()"
   ]
  },
  {
   "cell_type": "code",
   "execution_count": null,
   "metadata": {},
   "outputs": [],
   "source": [
    "sns.set(style=\"whitegrid\")\n",
    "\n",
    "# Diagrama de dispersión de la columna Ingresos Mensuales\n",
    "plt.figure(figsize=(10, 6))\n",
    "sns.scatterplot(x=df_creditos_personal.index, y='Ingresos Mensual', data=df_creditos_personal, color='b', s=10)\n",
    "plt.title('Diagrama de dispersión de Ingresos Mensuales', fontsize=14)\n",
    "plt.xlabel('Índice', fontsize=12)\n",
    "plt.ylabel('Ingresos Mensuales', fontsize=12)\n",
    "plt.show()"
   ]
  },
  {
   "cell_type": "code",
   "execution_count": null,
   "metadata": {},
   "outputs": [],
   "source": [
    "prome_tipo_cliente = df_creditos_personal.groupby(\"Tipo de Cliente\")[\"Ingresos Mensual\"].mean().astype(int).reset_index()\n",
    "prome_tipo_cliente.columns = [\"Tipo de Cliente\",\"Promedio de Ingresos Mensual\"]\n",
    "prome_tipo_cliente"
   ]
  },
  {
   "cell_type": "code",
   "execution_count": null,
   "metadata": {},
   "outputs": [],
   "source": [
    "prome_cartera_edad = df_creditos_personal.groupby(\"Cartera Por Edad\")[\"Ingresos Mensual\"].mean().astype(int).reset_index()\n",
    "prome_cartera_edad.columns = [\"Segemento Por Edad\",\"Promedio de Ingresos Mensual\"]\n",
    "prome_cartera_edad"
   ]
  },
  {
   "cell_type": "code",
   "execution_count": null,
   "metadata": {},
   "outputs": [],
   "source": [
    "prome_educacion = df_creditos_personal.groupby(\"Nivel de Educación\")[\"Ingresos Mensual\"].mean().astype(int).reset_index()\n",
    "prome_educacion.columns = [\"Segemento Por Educacion\",\"Promedio de Ingresos Mensual\"]\n",
    "prome_educacion"
   ]
  },
  {
   "cell_type": "code",
   "execution_count": null,
   "metadata": {},
   "outputs": [],
   "source": [
    "sns.set(style=\"whitegrid\")\n",
    "\n",
    "# Crear figura con subgráficas\n",
    "fig, axes = plt.subplots(1, 3, figsize=(35, 6), sharey=True)\n",
    "\n",
    "# Gráfico 1: Tipo de Cliente vs Promedio de Ingresos Mensuales\n",
    "sns.barplot(ax=axes[0], x='Tipo de Cliente', y='Ingresos Mensual', data=df_creditos_personal, ci=None, estimator='mean', palette='viridis')\n",
    "axes[0].set_title('Promedio de Ingresos Mensuales por Tipo de Cliente', fontsize=12)\n",
    "axes[0].set_xlabel('Tipo de Cliente', fontsize=10)\n",
    "axes[0].set_ylabel('Promedio de Ingresos Mensuales', fontsize=10)\n",
    "\n",
    "for bar in axes[0].containers:\n",
    "    axes[0].bar_label(bar, fmt='%.0f', label_type='edge', padding=3)\n",
    "\n",
    "# Gráfico 2: Cartera Por Edad vs Promedio de Ingresos Mensuales\n",
    "sns.barplot(ax=axes[1], x='Cartera Por Edad', y='Ingresos Mensual', data=df_creditos_personal, ci=None, estimator='mean', palette='Blues')\n",
    "axes[1].set_title('Promedio de Ingresos Mensuales por Cartera Por Edad', fontsize=12)\n",
    "axes[1].set_xlabel('Cartera Por Edad', fontsize=10)\n",
    "axes[1].set_ylabel('')\n",
    "\n",
    "for bar in axes[1].containers:\n",
    "    axes[1].bar_label(bar, fmt='%.0f', label_type='edge', padding=3)\n",
    "\n",
    "# Gráfico 3: Nivel de Educación vs Promedio de Ingresos Mensuales\n",
    "sns.barplot(ax=axes[2], x='Nivel de Educación', y='Ingresos Mensual', data=df_creditos_personal, ci=None, estimator='mean', palette='coolwarm')\n",
    "axes[2].set_title('Promedio de Ingresos Mensuales por Nivel de Educación', fontsize=12)\n",
    "axes[2].set_xlabel('Nivel de Educación', fontsize=10)\n",
    "axes[2].set_ylabel('')\n",
    "\n",
    "for bar in axes[2].containers:\n",
    "    axes[2].bar_label(bar, fmt='%.0f', label_type='edge', padding=3)\n",
    "\n",
    "plt.tight_layout()\n",
    "plt.show()"
   ]
  },
  {
   "cell_type": "code",
   "execution_count": null,
   "metadata": {},
   "outputs": [],
   "source": [
    "# Crear una tabla pivote para la media de Ingresos Mensuales según combinaciones de las variables categóricas\n",
    "pivot_table = df_creditos_personal.pivot_table(\n",
    "    values='Ingresos Mensual',\n",
    "    index=['Tipo de Cliente', 'Nivel de Educación'],  # Variables en el eje Y\n",
    "    columns='Cartera Por Edad',                      # Variable en el eje X\n",
    "    aggfunc='mean'                                   # Métrica de agregación\n",
    ")\n",
    "\n",
    "# Configuración del gráfico\n",
    "plt.figure(figsize=(12, 8))\n",
    "sns.heatmap(pivot_table, annot=True, fmt=\".2f\", cmap='YlGnBu', cbar=True, linewidths=0.5)\n",
    "plt.title('Mapa de Calor: Tipo de Cliente, Nivel de Educación y Cartera Por Edad vs Ingresos Mensuales', fontsize=14)\n",
    "plt.xlabel('Cartera Por Edad', fontsize=12)\n",
    "plt.ylabel('Tipo de Cliente y Nivel de Educación', fontsize=12)\n",
    "plt.xticks(rotation=45)\n",
    "plt.yticks(rotation=0)\n",
    "plt.show()"
   ]
  }
 ],
 "metadata": {
  "kernelspec": {
   "display_name": "Python 3",
   "language": "python",
   "name": "python3"
  },
  "language_info": {
   "codemirror_mode": {
    "name": "ipython",
    "version": 3
   },
   "file_extension": ".py",
   "mimetype": "text/x-python",
   "name": "python",
   "nbconvert_exporter": "python",
   "pygments_lexer": "ipython3",
   "version": "3.13.0"
  }
 },
 "nbformat": 4,
 "nbformat_minor": 2
}
