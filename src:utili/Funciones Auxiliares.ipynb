{
 "cells": [
  {
   "cell_type": "code",
   "execution_count": 1,
   "metadata": {},
   "outputs": [],
   "source": [
    "#Importamos los paquetes y modulos necesarios \n",
    "\n",
    "import matplotlib.pyplot as plt\n",
    "import numpy as np\n",
    "import pandas as pd\n",
    "import seaborn as sns"
   ]
  },
  {
   "cell_type": "code",
   "execution_count": null,
   "metadata": {},
   "outputs": [],
   "source": [
    "def plot_multiple_boxplots(df, columns, dim_matriz_visual = 2):\n",
    "    num_cols = len(columns)\n",
    "    num_rows = num_cols // dim_matriz_visual + num_cols % dim_matriz_visual\n",
    "    fig, axes = plt.subplots(num_rows, dim_matriz_visual, figsize=(12, 6 * num_rows))\n",
    "    axes = axes.flatten()\n",
    "\n",
    "    for i, column in enumerate(columns):\n",
    "        if df[column].dtype in ['int64', 'float64']:\n",
    "            sns.boxplot(data=df, x=column, ax=axes[i])\n",
    "            axes[i].set_title(column)\n",
    "\n",
    "    # Ocultar ejes vacíos\n",
    "    for j in range(i+1, num_rows * 2):\n",
    "        axes[j].axis('off')\n",
    "\n",
    "    plt.tight_layout()\n",
    "    plt.show()"
   ]
  },
  {
   "cell_type": "code",
   "execution_count": null,
   "metadata": {},
   "outputs": [],
   "source": [
    "def plot_histo_dens(df, columns, bins=None):\n",
    "    num_cols = len(columns)\n",
    "    num_rows = num_cols // 2 + num_cols % 2\n",
    "    fig, axes = plt.subplots(num_rows, 2, figsize=(12, 6 * num_rows))\n",
    "    axes = axes.flatten()\n",
    "\n",
    "    for i, column in enumerate(columns):\n",
    "        if df[column].dtype in ['int64', 'float64']:\n",
    "            if bins:\n",
    "                sns.histplot(df[column], kde=True, ax=axes[i], bins=bins)\n",
    "            else:\n",
    "                sns.histplot(df[column], kde=True, ax=axes[i])\n",
    "            axes[i].set_title(f'Histograma y KDE de {column}')\n",
    "\n",
    "    # Ocultar ejes vacíos\n",
    "    for j in range(i + 1, num_rows * 2):\n",
    "        axes[j].axis('off')\n",
    "\n",
    "    plt.tight_layout()\n",
    "    plt.show()"
   ]
  },
  {
   "cell_type": "code",
   "execution_count": null,
   "metadata": {},
   "outputs": [],
   "source": [
    "def plot_combined_graphs(df, columns, whisker_width=1.5):\n",
    "    num_cols = len(columns)\n",
    "    if num_cols:\n",
    "        \n",
    "        fig, axes = plt.subplots(num_cols, 2, figsize=(12, 5 * num_cols))\n",
    "        print(axes.shape)\n",
    "\n",
    "        for i, column in enumerate(columns):\n",
    "            if df[column].dtype in ['int64', 'float64']:\n",
    "                # Histograma y KDE\n",
    "                sns.histplot(df[column], kde=True, ax=axes[i,0] if num_cols > 1 else axes[0])\n",
    "                if num_cols > 1:\n",
    "                    axes[i,0].set_title(f'Histograma y KDE de {column}')\n",
    "                else:\n",
    "                    axes[0].set_title(f'Histograma y KDE de {column}')\n",
    "\n",
    "                # Boxplot\n",
    "                sns.boxplot(x=df[column], ax=axes[i,1] if num_cols > 1 else axes[1], whis=whisker_width)\n",
    "                if num_cols > 1:\n",
    "                    axes[i,1].set_title(f'Boxplot de {column}')\n",
    "                else:\n",
    "                    axes[1].set_title(f'Boxplot de {column}')\n",
    "\n",
    "        plt.tight_layout()\n",
    "        plt.show()"
   ]
  }
 ],
 "metadata": {
  "kernelspec": {
   "display_name": "Python 3",
   "language": "python",
   "name": "python3"
  },
  "language_info": {
   "codemirror_mode": {
    "name": "ipython",
    "version": 3
   },
   "file_extension": ".py",
   "mimetype": "text/x-python",
   "name": "python",
   "nbconvert_exporter": "python",
   "pygments_lexer": "ipython3",
   "version": "3.13.0"
  }
 },
 "nbformat": 4,
 "nbformat_minor": 2
}
